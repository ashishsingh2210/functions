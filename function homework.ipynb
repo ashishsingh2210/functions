{
 "cells": [
  {
   "cell_type": "code",
   "execution_count": 39,
   "metadata": {},
   "outputs": [],
   "source": [
    "# 1.find the greatest of three number\n",
    "\n",
    "def greatest(a,b,c):\n",
    "    if a>b>c or a>c>b:\n",
    "        return print(a,' = a is greatest of three')\n",
    "    elif b>c>a or b>a>c:\n",
    "        return print(b,' = b is greatest of three')\n",
    "    elif c>b>a or c>a>b:\n",
    "        return print(c,' = c is greatest of three')"
   ]
  },
  {
   "cell_type": "code",
   "execution_count": 40,
   "metadata": {},
   "outputs": [
    {
     "name": "stdout",
     "output_type": "stream",
     "text": [
      "16  = c is greatest of three\n"
     ]
    }
   ],
   "source": [
    "greatest(15,14,16)"
   ]
  },
  {
   "cell_type": "code",
   "execution_count": 38,
   "metadata": {},
   "outputs": [
    {
     "name": "stdout",
     "output_type": "stream",
     "text": [
      "4\n",
      "8\n",
      "2\n",
      "8  = b is greatest of three\n",
      "0.0\n"
     ]
    }
   ],
   "source": [
    "# 2. write a program for time taken for the program to execute\n",
    "\n",
    "import time\n",
    "start = time.time()\n",
    "greatest(4,8,2)\n",
    "end = time.time()\n",
    "print(start-end)"
   ]
  },
  {
   "cell_type": "code",
   "execution_count": 47,
   "metadata": {
    "scrolled": true
   },
   "outputs": [
    {
     "name": "stdout",
     "output_type": "stream",
     "text": [
      "enter the numeber : -45\n",
      "without using math function 45.0\n",
      "using math function :  45.0\n",
      "x = -9\n",
      "y = 4\n",
      "without using math function 9.848857801796104\n"
     ]
    }
   ],
   "source": [
    "# 3. write an function to find absolute value of the number\n",
    "import math as mat\n",
    "numAbsolute=float(input('enter the numeber : '))\n",
    "print('without using math function',abs(numAbsolute)) # finding the absolute value or moduls of number without using math function\n",
    "\n",
    "print('using math function : ',mat.fabs(numAbsolute)) # finding the absolute value or moduls of number without using math function\n",
    "\n",
    "complexNum=complex(float(input('x = ')),float(input('y = '))) # |c| = sqareroot(x2 + y2)\n",
    "\n",
    "print('without using math function',abs(complexNum)) # finding the absolute value or moduls of number without using math function\n",
    "\n",
    "# mat.fabs(complexNum) --> give error because math.fabs doesn't support complex number because it only work on numv=beric expression\n",
    "\n",
    "\n"
   ]
  },
  {
   "cell_type": "code",
   "execution_count": 49,
   "metadata": {},
   "outputs": [],
   "source": [
    "# 5. lambda function for multiplying two number\n",
    "\n",
    "mul = lambda a1,a2: a1*a2"
   ]
  },
  {
   "cell_type": "code",
   "execution_count": 50,
   "metadata": {},
   "outputs": [
    {
     "data": {
      "text/plain": [
       "10"
      ]
     },
     "execution_count": 50,
     "metadata": {},
     "output_type": "execute_result"
    }
   ],
   "source": [
    "mul(5,2)"
   ]
  },
  {
   "cell_type": "code",
   "execution_count": 78,
   "metadata": {},
   "outputs": [],
   "source": [
    "#5. lambda function for cube\n",
    "def numCube(cb):\n",
    "    return lambda cb: cb**3\n"
   ]
  },
  {
   "cell_type": "code",
   "execution_count": 91,
   "metadata": {},
   "outputs": [
    {
     "name": "stdout",
     "output_type": "stream",
     "text": [
      "64\n"
     ]
    }
   ],
   "source": [
    "cub = numCube(4)\n",
    "print(cub(4))"
   ]
  },
  {
   "cell_type": "code",
   "execution_count": 105,
   "metadata": {},
   "outputs": [],
   "source": [
    "# 6. write a function to return 1 if number is prime or 0 if not\n",
    "\n",
    "def is_prime(n):\n",
    "    count = 0\n",
    "    if n%2==0:\n",
    "        return 0\n",
    "    else:\n",
    "        for i in range(1,n):\n",
    "            if n%i==0:\n",
    "                count = count + 1\n",
    "        if count == 1:\n",
    "            return 1\n",
    "        else:\n",
    "            return 0"
   ]
  },
  {
   "cell_type": "code",
   "execution_count": 108,
   "metadata": {},
   "outputs": [
    {
     "data": {
      "text/plain": [
       "1"
      ]
     },
     "execution_count": 108,
     "metadata": {},
     "output_type": "execute_result"
    }
   ],
   "source": [
    "is_prime(11)"
   ]
  },
  {
   "cell_type": "code",
   "execution_count": 135,
   "metadata": {},
   "outputs": [],
   "source": [
    "# 7. print month according to he value and take value not greater than total number of month(i.e 12)\n",
    "def month(n):\n",
    "    if n<=12:\n",
    "        a=['january','feburay','march','april','may','june','july','august','september','october','november','december']\n",
    "        print(a[n-1])\n",
    "            "
   ]
  },
  {
   "cell_type": "code",
   "execution_count": 136,
   "metadata": {},
   "outputs": [
    {
     "name": "stdout",
     "output_type": "stream",
     "text": [
      "march\n"
     ]
    }
   ],
   "source": [
    "month(3)"
   ]
  },
  {
   "cell_type": "code",
   "execution_count": 145,
   "metadata": {},
   "outputs": [],
   "source": [
    "# 8 check wheather year is leap year or not\n",
    "def is_leap_year(year):\n",
    "    if year%4==0:\n",
    "        return 'is a leap year'\n",
    "    else:\n",
    "        return print('next leap year is after ', 4-year%4,' and that is ',year+(4-year%4))"
   ]
  },
  {
   "cell_type": "code",
   "execution_count": 146,
   "metadata": {},
   "outputs": [
    {
     "name": "stdout",
     "output_type": "stream",
     "text": [
      "next leap year is after  3  and that is  2024\n"
     ]
    }
   ],
   "source": [
    "is_leap_year(2021)"
   ]
  },
  {
   "cell_type": "code",
   "execution_count": 5,
   "metadata": {},
   "outputs": [
    {
     "name": "stdout",
     "output_type": "stream",
     "text": [
      "Enter the second string:ashish\n",
      "Enter the second string:solanki\n",
      "FINAL STING IS :  ashish\n"
     ]
    }
   ],
   "source": [
    "# 9.program to concatenate two strings using recursion\n",
    "\n",
    "i=0\n",
    "def concat(finalstr,str2,l):\n",
    "    global i\n",
    "    if(i==l):\n",
    "         finalstr = finalstr +'\\0'  # '\\0 = for denoting the end of string'\n",
    "    else:\n",
    "        finalstr = finalstr + str2[i]\n",
    "        i=i + 1\n",
    "        concat(finalstr,str2,l)\n",
    "\n",
    "finalstr=input(\"Enter the second string:\")\n",
    "str2 = input(\"Enter the second string:\")\n",
    "l = len(str2)\n",
    "concat(finalstr,str2,l)\n",
    "print(\"FINAL STING IS : \",finalstr)\n"
   ]
  },
  {
   "cell_type": "code",
   "execution_count": 53,
   "metadata": {},
   "outputs": [
    {
     "name": "stdout",
     "output_type": "stream",
     "text": [
      "entre the number : 6561684\n",
      "4861656\n"
     ]
    }
   ],
   "source": [
    "# 10. program to read the integer and print reverse\n",
    "n=input('entre the number : ')\n",
    "c=0\n",
    "a=int(n)\n",
    "for i in range(len(n),0,-1):\n",
    "    b=a%10\n",
    "    a=a//10\n",
    "    c=c+b*(10**(i-1))\n",
    "print(c)\n",
    "    \n",
    "    "
   ]
  },
  {
   "cell_type": "code",
   "execution_count": 59,
   "metadata": {},
   "outputs": [
    {
     "name": "stdout",
     "output_type": "stream",
     "text": [
      "swaped values of a and b is : (56, 21)\n"
     ]
    }
   ],
   "source": [
    "# 11. swap two variables that are defined as global variables\n",
    "def swap(a,b):\n",
    "    temp1=a\n",
    "    temp2=b\n",
    "    a=temp2\n",
    "    b=temp1\n",
    "    return print('swaped values of a and b is :', (a,b))\n",
    "swap(21,56)\n"
   ]
  },
  {
   "cell_type": "code",
   "execution_count": 104,
   "metadata": {},
   "outputs": [],
   "source": [
    "#12. Write a program to compute F(x,y) where F(x,y) = F(x-y,y) + 1 if y<=x\n",
    "def f(x,y):\n",
    "    if y<=x:\n",
    "        return\n",
    "    else:\n",
    "        return f(x-y,y)+1\n",
    "f(2,2)\n"
   ]
  },
  {
   "cell_type": "code",
   "execution_count": 2,
   "metadata": {},
   "outputs": [],
   "source": [
    "#13. Write a program to compute F(n,r) where F(n,r) can be recursively defined as F(n,r) = F(n-1,r) + F(n-1,r-1)\n",
    "def F(q,t):\n",
    "    if n-r==0:\n",
    "        return\n",
    "    else:\n",
    "        for i in range(1,2):\n",
    "            return f(q-i,t)\n",
    "        for j in range(1,2):\n",
    "            return f(q-j,t-j)\n",
    "        return f(q-i,t)+f(q-j,t-j)\n",
    "\n",
    "\n"
   ]
  },
  {
   "cell_type": "code",
   "execution_count": null,
   "metadata": {},
   "outputs": [],
   "source": [
    "q = int(input(\"Enter n: \"))\n",
    "t = int(input(\"Enter r: \"))\n",
    "F(q,t)"
   ]
  },
  {
   "cell_type": "code",
   "execution_count": 105,
   "metadata": {},
   "outputs": [],
   "source": [
    "#14. Write a program to compute lambda(n) for all positive values of n where, lambda (n) can be\n",
    "#    recursively defined as lambda(n) = lambda(n/2) + 1 if n>1\n",
    "def Lambda(n):\n",
    "    if n>1:\n",
    "        return\n",
    "    else:\n",
    "        return Lambda(n/2)+1\n",
    "\n",
    "Lambda(10)"
   ]
  },
  {
   "cell_type": "code",
   "execution_count": 110,
   "metadata": {},
   "outputs": [
    {
     "data": {
      "text/plain": [
       "1"
      ]
     },
     "execution_count": 110,
     "metadata": {},
     "output_type": "execute_result"
    }
   ],
   "source": [
    "#15. Write a program to compute F(M,N), where F(M,N) can be recursively defined as F(M,N) = 1 if M=0\n",
    "#    or M >= N >=1 and F(M,N) = F(M-1,N) + F(M-1,N-1), otherwise.\n",
    "def f(m,n):\n",
    "    if m==0 or m>=n>=1:\n",
    "        return 1\n",
    "    else:\n",
    "        return f(m-1,n)+f(m-1,n-1)\n",
    "f(5,4)"
   ]
  },
  {
   "cell_type": "code",
   "execution_count": 80,
   "metadata": {},
   "outputs": [],
   "source": [
    "#16. Write a menu driven program using functions to perform calculator operations such as adding,substracting and\n",
    "#    dividing two integers\n",
    "def menu():\n",
    "    print('what do you want')\n",
    "    print('1- add')\n",
    "    print('2-sub')\n",
    "    print('3-mul')\n",
    "    +"
   ]
  },
  {
   "cell_type": "code",
   "execution_count": 113,
   "metadata": {},
   "outputs": [],
   "source": [
    "#17. Write a program using a function that calculates the hypotenuse of a right-angled traingle\n",
    " "
   ]
  },
  {
   "cell_type": "code",
   "execution_count": null,
   "metadata": {},
   "outputs": [],
   "source": []
  },
  {
   "cell_type": "code",
   "execution_count": null,
   "metadata": {},
   "outputs": [],
   "source": []
  },
  {
   "cell_type": "code",
   "execution_count": 55,
   "metadata": {},
   "outputs": [
    {
     "data": {
      "text/plain": [
       "5.0"
      ]
     },
     "execution_count": 55,
     "metadata": {},
     "output_type": "execute_result"
    }
   ],
   "source": [
    "# 18. write a finction of the find hypotenuse of a right-angles triangle\n",
    "def hypotenuse(hight,base):\n",
    "    slant = ((hight)**2 + (base)**2)**0.5\n",
    "    return slant\n",
    "\n",
    "hypotenuse(3,4)"
   ]
  },
  {
   "cell_type": "code",
   "execution_count": 72,
   "metadata": {},
   "outputs": [
    {
     "data": {
      "text/plain": [
       "1.5"
      ]
     },
     "execution_count": 72,
     "metadata": {},
     "output_type": "execute_result"
    }
   ],
   "source": [
    "# 19. wrtie a function that accepts a 'n' numbers as input and returns the avg of number from 1 to n\n",
    "def avg(n):\n",
    "    total=n\n",
    "    for i in range(n-1,0,-1):\n",
    "        n=n+i\n",
    "    mean=n/total\n",
    "    return mean\n",
    "\n",
    "avg(2)"
   ]
  },
  {
   "cell_type": "code",
   "execution_count": 76,
   "metadata": {},
   "outputs": [
    {
     "data": {
      "text/plain": [
       "10.0"
      ]
     },
     "execution_count": 76,
     "metadata": {},
     "output_type": "execute_result"
    }
   ],
   "source": [
    "# 21. program to find area of triangle\n",
    "def arOfTriangle(base,height):\n",
    "    area=(1/2)*base*height\n",
    "    return area\n",
    "\n",
    "arOfTriangle(4,5)"
   ]
  },
  {
   "cell_type": "code",
   "execution_count": 82,
   "metadata": {},
   "outputs": [
    {
     "name": "stdout",
     "output_type": "stream",
     "text": [
      "4\n",
      "0.25\n"
     ]
    }
   ],
   "source": [
    "# 22. write a function to find the power of y to x and y can be +ve or -ve\n",
    "def power(x,y):\n",
    "    return x**y\n",
    "\n",
    "print(power(2,2))\n",
    "print(power(2,-2))"
   ]
  },
  {
   "cell_type": "code",
   "execution_count": 89,
   "metadata": {},
   "outputs": [
    {
     "name": "stdout",
     "output_type": "stream",
     "text": [
      "enter principle amount : 100\n"
     ]
    },
    {
     "data": {
      "text/plain": [
       "21"
      ]
     },
     "execution_count": 89,
     "metadata": {},
     "output_type": "execute_result"
    }
   ],
   "source": [
    "# 23. write a functionn to find the compound interest using rates of interest and number of years (c(n,r))\n",
    "def c(n,r):\n",
    "    principle=int(input('enter principle amount : '))\n",
    "    amount=principle*(1+(r/100))**n\n",
    "    c=-principle+amount\n",
    "    return int(c)\n",
    "\n",
    "c(2,10)"
   ]
  },
  {
   "cell_type": "code",
   "execution_count": 8,
   "metadata": {},
   "outputs": [],
   "source": [
    "# 24. write a program to swap two interger using call-by-reference method of pasing arguments to function.\n"
   ]
  },
  {
   "cell_type": "code",
   "execution_count": 166,
   "metadata": {},
   "outputs": [
    {
     "name": "stdout",
     "output_type": "stream",
     "text": [
      "Enter string : ashish\n",
      "hsihsa\n"
     ]
    }
   ],
   "source": [
    "# 25. wrtie a program to reverse a string usig recursion\n",
    "def revStr(s):\n",
    "    if s == \"\":\n",
    "        return s\n",
    "    else:\n",
    "        return revStr(s[1:]) + s[0]\n",
    "\n",
    "s = input('Enter string : ')\n",
    "print (revStr(s))\n",
    "\n"
   ]
  },
  {
   "cell_type": "code",
   "execution_count": 146,
   "metadata": {},
   "outputs": [
    {
     "name": "stdout",
     "output_type": "stream",
     "text": [
      "hsihsa"
     ]
    }
   ],
   "source": [
    "# 26. write a program to reverse the string without using recursion\\\n",
    "def revStr(a):\n",
    "    length=-len(a)\n",
    "    for i in range(-1,length-1,-1):\n",
    "        print(a[i],end='')\n",
    "\n",
    "revStr('ashish')"
   ]
  },
  {
   "cell_type": "code",
   "execution_count": 1,
   "metadata": {},
   "outputs": [
    {
     "data": {
      "text/plain": [
       "8"
      ]
     },
     "execution_count": 1,
     "metadata": {},
     "output_type": "execute_result"
    }
   ],
   "source": [
    "# 27. write a program to find the exp(x,y) using recursion\n",
    "def exp(x,y):\n",
    "    if y==0:\n",
    "        return 1\n",
    "    else:\n",
    "        return x*exp(x,y-1)\n",
    "    \n",
    "exp(2,3)"
   ]
  },
  {
   "cell_type": "code",
   "execution_count": 2,
   "metadata": {},
   "outputs": [
    {
     "data": {
      "text/plain": [
       "8"
      ]
     },
     "execution_count": 2,
     "metadata": {},
     "output_type": "execute_result"
    }
   ],
   "source": [
    "# 28. write a program to find the exp(x,y) without using recursion\n",
    "def exp(x,y):\n",
    "    if y==0:\n",
    "        return 1\n",
    "    else:\n",
    "        return x**y\n",
    "    \n",
    "exp(2,3)"
   ]
  },
  {
   "cell_type": "code",
   "execution_count": 51,
   "metadata": {},
   "outputs": [
    {
     "name": "stdout",
     "output_type": "stream",
     "text": [
      "Enter N:10\n",
      "1\n",
      "1\n",
      "2\n",
      "3\n",
      "5\n",
      "8\n",
      "13\n",
      "21\n",
      "34\n",
      "55\n"
     ]
    }
   ],
   "source": [
    "# 29. write a program to print the fibonacci series without using recursion.\n",
    "def fib(n):\n",
    "    cur = 1\n",
    "    old = 1\n",
    "    i = 1\n",
    "    while (i < n):\n",
    "        cur, old, i = cur+old, cur, i+1\n",
    "    return cur\n",
    "for i in range(int(input('Enter N:'))):\n",
    "     print(fib(i))\n"
   ]
  },
  {
   "cell_type": "code",
   "execution_count": 67,
   "metadata": {},
   "outputs": [
    {
     "name": "stdout",
     "output_type": "stream",
     "text": [
      "Enter the number of terms :10\n",
      "Fibonacci( 0 )=  1\n",
      "Fibonacci( 1 )=  1\n",
      "Fibonacci( 2 )=  2\n",
      "Fibonacci( 3 )=  3\n",
      "Fibonacci( 4 )=  5\n",
      "Fibonacci( 5 )=  8\n",
      "Fibonacci( 6 )=  13\n",
      "Fibonacci( 7 )=  21\n",
      "Fibonacci( 8 )=  34\n",
      "Fibonacci( 9 )=  55\n"
     ]
    }
   ],
   "source": [
    "# 30. write a program to print the fibonacci series using recursion.\n",
    "def fibonacci(n):\n",
    "    if (n<2):\n",
    "        return 1\n",
    "    return (fibonacci(n-1)+fibonacci(n-2))\n",
    "\n",
    "n = int(input(\"Enter the number of terms :\"))\n",
    "for i in range(n):\n",
    "    print(\"Fibonacci(\",i,\")= \",fibonacci(i))"
   ]
  },
  {
   "cell_type": "code",
   "execution_count": 75,
   "metadata": {},
   "outputs": [
    {
     "name": "stdout",
     "output_type": "stream",
     "text": [
      "x = 5\n",
      "y = 6\n"
     ]
    },
    {
     "data": {
      "text/plain": [
       "-1"
      ]
     },
     "execution_count": 75,
     "metadata": {},
     "output_type": "execute_result"
    }
   ],
   "source": [
    "# 31. write function to perform the calculator\n",
    "def add(x,y):\n",
    "    return x+y\n",
    "def sub(x,y):\n",
    "    return x-y\n",
    "def mul(x,y):\n",
    "    return x*y\n",
    "def div(x,y):\n",
    "    return x/y\n",
    "def calculate(n):\n",
    "    if n==add:\n",
    "        x=int(input('x = '))\n",
    "        y=int(input('y = '))\n",
    "        return add(x,y)\n",
    "    elif n==sub:\n",
    "        x=int(input('x = '))\n",
    "        y=int(input('y = '))\n",
    "        return sub(x,y)\n",
    "    elif n==div:\n",
    "        x=int(input('x = '))\n",
    "        y=int(input('y = '))\n",
    "        return div(x,y)\n",
    "    elif n==mul:\n",
    "        x=int(input('x = '))\n",
    "        y=int(input('y = '))\n",
    "        return mul(x,y)\n",
    "    else:\n",
    "        return n\n",
    "\n",
    "calculate(sub)"
   ]
  },
  {
   "cell_type": "code",
   "execution_count": null,
   "metadata": {},
   "outputs": [],
   "source": []
  },
  {
   "cell_type": "code",
   "execution_count": null,
   "metadata": {},
   "outputs": [],
   "source": []
  },
  {
   "cell_type": "code",
   "execution_count": null,
   "metadata": {},
   "outputs": [],
   "source": []
  },
  {
   "cell_type": "code",
   "execution_count": null,
   "metadata": {},
   "outputs": [],
   "source": []
  },
  {
   "cell_type": "code",
   "execution_count": null,
   "metadata": {},
   "outputs": [],
   "source": []
  }
 ],
 "metadata": {
  "kernelspec": {
   "display_name": "Python 3",
   "language": "python",
   "name": "python3"
  },
  "language_info": {
   "codemirror_mode": {
    "name": "ipython",
    "version": 3
   },
   "file_extension": ".py",
   "mimetype": "text/x-python",
   "name": "python",
   "nbconvert_exporter": "python",
   "pygments_lexer": "ipython3",
   "version": "3.7.1"
  }
 },
 "nbformat": 4,
 "nbformat_minor": 2
}
